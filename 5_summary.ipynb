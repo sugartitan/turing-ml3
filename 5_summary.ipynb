{
 "cells": [
  {
   "cell_type": "markdown",
   "metadata": {},
   "source": [
    "*PART 5: Summary*"
   ]
  },
  {
   "cell_type": "markdown",
   "metadata": {},
   "source": [
    "***"
   ]
  },
  {
   "cell_type": "markdown",
   "metadata": {},
   "source": [
    "# Summary"
   ]
  },
  {
   "cell_type": "markdown",
   "metadata": {},
   "source": [
    "Our goal was to automate decisions on whether requested loans are good or bad.\n",
    "\n",
    "We had set a 3-step process to make a decision:\n",
    "\n",
    "1. Creating a model that could predict if loan would be fully paid;"
   ]
  },
  {
   "cell_type": "markdown",
   "metadata": {},
   "source": [
    "We have created 4 models in total and all of them are Random Forest Classifiers."
   ]
  },
  {
   "cell_type": "markdown",
   "metadata": {},
   "source": [
    "Additionally, we have learnt that there is basically no difference in ratio of charged off and fully paid back loans for any of the categorical values.\n",
    "\n",
    "Two at least somewhat impactful features were loan purpose and term length.\n",
    "\n",
    "Also, throughout the grades from A to G the percentage of bad loans rises from 6.3% at grade A to 48.4% at grade G."
   ]
  },
  {
   "cell_type": "markdown",
   "metadata": {},
   "source": [
    "# How to Improve?"
   ]
  },
  {
   "cell_type": "markdown",
   "metadata": {},
   "source": [
    "* Due to lack of time and resources we had to left out some text columns, which could have proven useful;\n",
    "* Deeper dive into machine learning models and their tuning;\n",
    "* Most of the learning was not optimized in terms of dataset length and CPU/GPU load."
   ]
  }
 ],
 "metadata": {
  "language_info": {
   "name": "python"
  },
  "orig_nbformat": 4
 },
 "nbformat": 4,
 "nbformat_minor": 2
}
